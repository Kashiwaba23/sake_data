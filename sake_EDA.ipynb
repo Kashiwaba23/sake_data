{
 "cells": [
  {
   "cell_type": "markdown",
   "metadata": {},
   "source": [
    "# EDA of Japanese Sake"
   ]
  },
  {
   "cell_type": "markdown",
   "metadata": {},
   "source": [
    "The data used in this exploratory data analysis was provided by Sakenowa : https://sakenowa.com"
   ]
  },
  {
   "cell_type": "code",
   "execution_count": 146,
   "metadata": {},
   "outputs": [],
   "source": [
    "import pandas as pd\n",
    "import matplotlib.pyplot as plt\n",
    "# japanize_matplotlib to be able to show Kanji in graphs\n",
    "import japanize_matplotlib\n",
    "import numpy as np\n",
    "import seaborn as sns"
   ]
  },
  {
   "cell_type": "markdown",
   "metadata": {},
   "source": [
    "Let's first read in all of the csv data and check for any missing items or cleaning which needs to be done."
   ]
  },
  {
   "cell_type": "code",
   "execution_count": 63,
   "metadata": {},
   "outputs": [
    {
     "data": {
      "text/html": [
       "<div>\n",
       "<style scoped>\n",
       "    .dataframe tbody tr th:only-of-type {\n",
       "        vertical-align: middle;\n",
       "    }\n",
       "\n",
       "    .dataframe tbody tr th {\n",
       "        vertical-align: top;\n",
       "    }\n",
       "\n",
       "    .dataframe thead th {\n",
       "        text-align: right;\n",
       "    }\n",
       "</style>\n",
       "<table border=\"1\" class=\"dataframe\">\n",
       "  <thead>\n",
       "    <tr style=\"text-align: right;\">\n",
       "      <th></th>\n",
       "      <th>id</th>\n",
       "      <th>tag</th>\n",
       "    </tr>\n",
       "  </thead>\n",
       "  <tbody>\n",
       "    <tr>\n",
       "      <th>0</th>\n",
       "      <td>2</td>\n",
       "      <td>酸味</td>\n",
       "    </tr>\n",
       "    <tr>\n",
       "      <th>1</th>\n",
       "      <td>3</td>\n",
       "      <td>辛口</td>\n",
       "    </tr>\n",
       "    <tr>\n",
       "      <th>2</th>\n",
       "      <td>5</td>\n",
       "      <td>旨味</td>\n",
       "    </tr>\n",
       "    <tr>\n",
       "      <th>3</th>\n",
       "      <td>6</td>\n",
       "      <td>フルーティ</td>\n",
       "    </tr>\n",
       "    <tr>\n",
       "      <th>4</th>\n",
       "      <td>7</td>\n",
       "      <td>スッキリ</td>\n",
       "    </tr>\n",
       "  </tbody>\n",
       "</table>\n",
       "</div>"
      ],
      "text/plain": [
       "   id    tag\n",
       "0   2     酸味\n",
       "1   3     辛口\n",
       "2   5     旨味\n",
       "3   6  フルーティ\n",
       "4   7   スッキリ"
      ]
     },
     "execution_count": 63,
     "metadata": {},
     "output_type": "execute_result"
    }
   ],
   "source": [
    "flavor_tags = pd.read_csv('csv_data/flavor_tags_list.csv')\n",
    "flavor_tags.head()"
   ]
  },
  {
   "cell_type": "code",
   "execution_count": 17,
   "metadata": {},
   "outputs": [
    {
     "data": {
      "text/plain": [
       "id     0\n",
       "tag    0\n",
       "dtype: int64"
      ]
     },
     "execution_count": 17,
     "metadata": {},
     "output_type": "execute_result"
    }
   ],
   "source": [
    "flavor_tags.isna().sum()"
   ]
  },
  {
   "cell_type": "code",
   "execution_count": 21,
   "metadata": {},
   "outputs": [
    {
     "name": "stdout",
     "output_type": "stream",
     "text": [
      "(141, 2)\n"
     ]
    },
    {
     "data": {
      "text/plain": [
       "id     141\n",
       "tag    141\n",
       "dtype: int64"
      ]
     },
     "execution_count": 21,
     "metadata": {},
     "output_type": "execute_result"
    }
   ],
   "source": [
    "print(flavor_tags.shape)\n",
    "flavor_tags.nunique()"
   ]
  },
  {
   "cell_type": "code",
   "execution_count": 10,
   "metadata": {},
   "outputs": [
    {
     "data": {
      "text/html": [
       "<div>\n",
       "<style scoped>\n",
       "    .dataframe tbody tr th:only-of-type {\n",
       "        vertical-align: middle;\n",
       "    }\n",
       "\n",
       "    .dataframe tbody tr th {\n",
       "        vertical-align: top;\n",
       "    }\n",
       "\n",
       "    .dataframe thead th {\n",
       "        text-align: right;\n",
       "    }\n",
       "</style>\n",
       "<table border=\"1\" class=\"dataframe\">\n",
       "  <thead>\n",
       "    <tr style=\"text-align: right;\">\n",
       "      <th></th>\n",
       "      <th>area_id</th>\n",
       "      <th>areas</th>\n",
       "    </tr>\n",
       "  </thead>\n",
       "  <tbody>\n",
       "    <tr>\n",
       "      <th>0</th>\n",
       "      <td>1</td>\n",
       "      <td>北海道</td>\n",
       "    </tr>\n",
       "    <tr>\n",
       "      <th>1</th>\n",
       "      <td>2</td>\n",
       "      <td>青森県</td>\n",
       "    </tr>\n",
       "    <tr>\n",
       "      <th>2</th>\n",
       "      <td>3</td>\n",
       "      <td>岩手県</td>\n",
       "    </tr>\n",
       "    <tr>\n",
       "      <th>3</th>\n",
       "      <td>4</td>\n",
       "      <td>宮城県</td>\n",
       "    </tr>\n",
       "    <tr>\n",
       "      <th>4</th>\n",
       "      <td>5</td>\n",
       "      <td>秋田県</td>\n",
       "    </tr>\n",
       "  </tbody>\n",
       "</table>\n",
       "</div>"
      ],
      "text/plain": [
       "   area_id areas\n",
       "0        1   北海道\n",
       "1        2   青森県\n",
       "2        3   岩手県\n",
       "3        4   宮城県\n",
       "4        5   秋田県"
      ]
     },
     "execution_count": 10,
     "metadata": {},
     "output_type": "execute_result"
    }
   ],
   "source": [
    "locations = pd.read_csv('csv_data/locations.csv')\n",
    "locations.columns = ['area_id', 'areas']\n",
    "locations.head()"
   ]
  },
  {
   "cell_type": "code",
   "execution_count": 19,
   "metadata": {},
   "outputs": [
    {
     "data": {
      "text/plain": [
       "area_id    0\n",
       "areas      0\n",
       "dtype: int64"
      ]
     },
     "execution_count": 19,
     "metadata": {},
     "output_type": "execute_result"
    }
   ],
   "source": [
    "locations.isna().sum()"
   ]
  },
  {
   "cell_type": "code",
   "execution_count": 23,
   "metadata": {},
   "outputs": [
    {
     "name": "stdout",
     "output_type": "stream",
     "text": [
      "(48, 2)\n"
     ]
    },
    {
     "data": {
      "text/plain": [
       "area_id    48\n",
       "areas      48\n",
       "dtype: int64"
      ]
     },
     "execution_count": 23,
     "metadata": {},
     "output_type": "execute_result"
    }
   ],
   "source": [
    "print(locations.shape)\n",
    "locations.nunique()"
   ]
  },
  {
   "cell_type": "code",
   "execution_count": 11,
   "metadata": {},
   "outputs": [
    {
     "data": {
      "text/html": [
       "<div>\n",
       "<style scoped>\n",
       "    .dataframe tbody tr th:only-of-type {\n",
       "        vertical-align: middle;\n",
       "    }\n",
       "\n",
       "    .dataframe tbody tr th {\n",
       "        vertical-align: top;\n",
       "    }\n",
       "\n",
       "    .dataframe thead th {\n",
       "        text-align: right;\n",
       "    }\n",
       "</style>\n",
       "<table border=\"1\" class=\"dataframe\">\n",
       "  <thead>\n",
       "    <tr style=\"text-align: right;\">\n",
       "      <th></th>\n",
       "      <th>brand_id</th>\n",
       "      <th>brand_name</th>\n",
       "      <th>brewery_id</th>\n",
       "    </tr>\n",
       "  </thead>\n",
       "  <tbody>\n",
       "    <tr>\n",
       "      <th>0</th>\n",
       "      <td>1</td>\n",
       "      <td>新十津川</td>\n",
       "      <td>1</td>\n",
       "    </tr>\n",
       "    <tr>\n",
       "      <th>1</th>\n",
       "      <td>2</td>\n",
       "      <td>男山</td>\n",
       "      <td>2</td>\n",
       "    </tr>\n",
       "    <tr>\n",
       "      <th>2</th>\n",
       "      <td>3</td>\n",
       "      <td>大雪乃蔵</td>\n",
       "      <td>3</td>\n",
       "    </tr>\n",
       "    <tr>\n",
       "      <th>3</th>\n",
       "      <td>4</td>\n",
       "      <td>宝川</td>\n",
       "      <td>4</td>\n",
       "    </tr>\n",
       "    <tr>\n",
       "      <th>4</th>\n",
       "      <td>5</td>\n",
       "      <td>亀甲蔵</td>\n",
       "      <td>4</td>\n",
       "    </tr>\n",
       "  </tbody>\n",
       "</table>\n",
       "</div>"
      ],
      "text/plain": [
       "   brand_id brand_name  brewery_id\n",
       "0         1       新十津川           1\n",
       "1         2         男山           2\n",
       "2         3       大雪乃蔵           3\n",
       "3         4         宝川           4\n",
       "4         5        亀甲蔵           4"
      ]
     },
     "execution_count": 11,
     "metadata": {},
     "output_type": "execute_result"
    }
   ],
   "source": [
    "brands = pd.read_csv('csv_data/brands.csv')\n",
    "brands.head()"
   ]
  },
  {
   "cell_type": "code",
   "execution_count": 24,
   "metadata": {},
   "outputs": [
    {
     "data": {
      "text/plain": [
       "brand_id      0\n",
       "brand_name    0\n",
       "brewery_id    0\n",
       "dtype: int64"
      ]
     },
     "execution_count": 24,
     "metadata": {},
     "output_type": "execute_result"
    }
   ],
   "source": [
    "brands.isna().sum()"
   ]
  },
  {
   "cell_type": "code",
   "execution_count": 26,
   "metadata": {},
   "outputs": [
    {
     "name": "stdout",
     "output_type": "stream",
     "text": [
      "(3146, 3)\n"
     ]
    },
    {
     "data": {
      "text/plain": [
       "brand_id      3146\n",
       "brand_name    3086\n",
       "brewery_id    1301\n",
       "dtype: int64"
      ]
     },
     "execution_count": 26,
     "metadata": {},
     "output_type": "execute_result"
    }
   ],
   "source": [
    "print(brands.shape)\n",
    "brands.nunique()"
   ]
  },
  {
   "cell_type": "code",
   "execution_count": 46,
   "metadata": {},
   "outputs": [
    {
     "data": {
      "text/html": [
       "<div>\n",
       "<style scoped>\n",
       "    .dataframe tbody tr th:only-of-type {\n",
       "        vertical-align: middle;\n",
       "    }\n",
       "\n",
       "    .dataframe tbody tr th {\n",
       "        vertical-align: top;\n",
       "    }\n",
       "\n",
       "    .dataframe thead th {\n",
       "        text-align: right;\n",
       "    }\n",
       "</style>\n",
       "<table border=\"1\" class=\"dataframe\">\n",
       "  <thead>\n",
       "    <tr style=\"text-align: right;\">\n",
       "      <th></th>\n",
       "      <th>brand_id</th>\n",
       "      <th>brand_name</th>\n",
       "      <th>brewery_id</th>\n",
       "    </tr>\n",
       "  </thead>\n",
       "  <tbody>\n",
       "  </tbody>\n",
       "</table>\n",
       "</div>"
      ],
      "text/plain": [
       "Empty DataFrame\n",
       "Columns: [brand_id, brand_name, brewery_id]\n",
       "Index: []"
      ]
     },
     "execution_count": 46,
     "metadata": {},
     "output_type": "execute_result"
    }
   ],
   "source": [
    "brands[brands.duplicated()]"
   ]
  },
  {
   "cell_type": "markdown",
   "metadata": {},
   "source": [
    "It looks like several brands names are repeated, but since all of the repeat names have a unique brewery_id, they are all unique products."
   ]
  },
  {
   "cell_type": "code",
   "execution_count": 47,
   "metadata": {},
   "outputs": [
    {
     "data": {
      "text/html": [
       "<div>\n",
       "<style scoped>\n",
       "    .dataframe tbody tr th:only-of-type {\n",
       "        vertical-align: middle;\n",
       "    }\n",
       "\n",
       "    .dataframe tbody tr th {\n",
       "        vertical-align: top;\n",
       "    }\n",
       "\n",
       "    .dataframe thead th {\n",
       "        text-align: right;\n",
       "    }\n",
       "</style>\n",
       "<table border=\"1\" class=\"dataframe\">\n",
       "  <thead>\n",
       "    <tr style=\"text-align: right;\">\n",
       "      <th></th>\n",
       "      <th>brewery_id</th>\n",
       "      <th>brewery_name</th>\n",
       "      <th>area_id</th>\n",
       "    </tr>\n",
       "  </thead>\n",
       "  <tbody>\n",
       "    <tr>\n",
       "      <th>0</th>\n",
       "      <td>1</td>\n",
       "      <td>金滴酒造</td>\n",
       "      <td>1</td>\n",
       "    </tr>\n",
       "    <tr>\n",
       "      <th>1</th>\n",
       "      <td>2</td>\n",
       "      <td>男山</td>\n",
       "      <td>1</td>\n",
       "    </tr>\n",
       "    <tr>\n",
       "      <th>2</th>\n",
       "      <td>3</td>\n",
       "      <td>合同酒精</td>\n",
       "      <td>1</td>\n",
       "    </tr>\n",
       "    <tr>\n",
       "      <th>3</th>\n",
       "      <td>4</td>\n",
       "      <td>田中酒造</td>\n",
       "      <td>1</td>\n",
       "    </tr>\n",
       "    <tr>\n",
       "      <th>4</th>\n",
       "      <td>5</td>\n",
       "      <td>北の誉酒造</td>\n",
       "      <td>1</td>\n",
       "    </tr>\n",
       "  </tbody>\n",
       "</table>\n",
       "</div>"
      ],
      "text/plain": [
       "   brewery_id brewery_name  area_id\n",
       "0           1         金滴酒造        1\n",
       "1           2           男山        1\n",
       "2           3         合同酒精        1\n",
       "3           4         田中酒造        1\n",
       "4           5        北の誉酒造        1"
      ]
     },
     "execution_count": 47,
     "metadata": {},
     "output_type": "execute_result"
    }
   ],
   "source": [
    "breweries = pd.read_csv('csv_data/breweries.csv')\n",
    "breweries.head()"
   ]
  },
  {
   "cell_type": "code",
   "execution_count": 123,
   "metadata": {},
   "outputs": [
    {
     "data": {
      "text/plain": [
       "brewery_id       0\n",
       "brewery_name    48\n",
       "area_id          0\n",
       "dtype: int64"
      ]
     },
     "execution_count": 123,
     "metadata": {},
     "output_type": "execute_result"
    }
   ],
   "source": [
    "breweries.isna().sum()"
   ]
  },
  {
   "cell_type": "markdown",
   "metadata": {},
   "source": [
    "It looks like 48 breweries (one for each prefecutre??) are without names. Let's drop these\n",
    "since a brewery without any name doesn't do us much good."
   ]
  },
  {
   "cell_type": "code",
   "execution_count": 124,
   "metadata": {},
   "outputs": [],
   "source": [
    "breweries.dropna(axis=0, how='any', inplace=True)"
   ]
  },
  {
   "cell_type": "code",
   "execution_count": 125,
   "metadata": {},
   "outputs": [
    {
     "data": {
      "text/plain": [
       "brewery_id      0\n",
       "brewery_name    0\n",
       "area_id         0\n",
       "dtype: int64"
      ]
     },
     "execution_count": 125,
     "metadata": {},
     "output_type": "execute_result"
    }
   ],
   "source": [
    "breweries.isna().sum()"
   ]
  },
  {
   "cell_type": "code",
   "execution_count": 126,
   "metadata": {},
   "outputs": [
    {
     "name": "stdout",
     "output_type": "stream",
     "text": [
      "(1681, 3)\n"
     ]
    },
    {
     "data": {
      "text/plain": [
       "brewery_id      1681\n",
       "brewery_name    1538\n",
       "area_id           48\n",
       "dtype: int64"
      ]
     },
     "execution_count": 126,
     "metadata": {},
     "output_type": "execute_result"
    }
   ],
   "source": [
    "print(breweries.shape)\n",
    "breweries.nunique()"
   ]
  },
  {
   "cell_type": "code",
   "execution_count": 127,
   "metadata": {},
   "outputs": [
    {
     "data": {
      "text/html": [
       "<div>\n",
       "<style scoped>\n",
       "    .dataframe tbody tr th:only-of-type {\n",
       "        vertical-align: middle;\n",
       "    }\n",
       "\n",
       "    .dataframe tbody tr th {\n",
       "        vertical-align: top;\n",
       "    }\n",
       "\n",
       "    .dataframe thead th {\n",
       "        text-align: right;\n",
       "    }\n",
       "</style>\n",
       "<table border=\"1\" class=\"dataframe\">\n",
       "  <thead>\n",
       "    <tr style=\"text-align: right;\">\n",
       "      <th></th>\n",
       "      <th>brewery_id</th>\n",
       "      <th>brewery_name</th>\n",
       "      <th>area_id</th>\n",
       "    </tr>\n",
       "  </thead>\n",
       "  <tbody>\n",
       "  </tbody>\n",
       "</table>\n",
       "</div>"
      ],
      "text/plain": [
       "Empty DataFrame\n",
       "Columns: [brewery_id, brewery_name, area_id]\n",
       "Index: []"
      ]
     },
     "execution_count": 127,
     "metadata": {},
     "output_type": "execute_result"
    }
   ],
   "source": [
    "breweries[breweries.duplicated()]"
   ]
  },
  {
   "cell_type": "markdown",
   "metadata": {},
   "source": [
    "It looks like some of the breweries share the same names, but still they are all unique."
   ]
  },
  {
   "cell_type": "code",
   "execution_count": 14,
   "metadata": {},
   "outputs": [
    {
     "data": {
      "text/html": [
       "<div>\n",
       "<style scoped>\n",
       "    .dataframe tbody tr th:only-of-type {\n",
       "        vertical-align: middle;\n",
       "    }\n",
       "\n",
       "    .dataframe tbody tr th {\n",
       "        vertical-align: top;\n",
       "    }\n",
       "\n",
       "    .dataframe thead th {\n",
       "        text-align: right;\n",
       "    }\n",
       "</style>\n",
       "<table border=\"1\" class=\"dataframe\">\n",
       "  <thead>\n",
       "    <tr style=\"text-align: right;\">\n",
       "      <th></th>\n",
       "      <th>rank</th>\n",
       "      <th>score</th>\n",
       "      <th>brandId</th>\n",
       "    </tr>\n",
       "  </thead>\n",
       "  <tbody>\n",
       "    <tr>\n",
       "      <th>0</th>\n",
       "      <td>1</td>\n",
       "      <td>4.346165</td>\n",
       "      <td>109</td>\n",
       "    </tr>\n",
       "    <tr>\n",
       "      <th>1</th>\n",
       "      <td>2</td>\n",
       "      <td>4.101579</td>\n",
       "      <td>660</td>\n",
       "    </tr>\n",
       "    <tr>\n",
       "      <th>2</th>\n",
       "      <td>3</td>\n",
       "      <td>4.089639</td>\n",
       "      <td>792</td>\n",
       "    </tr>\n",
       "    <tr>\n",
       "      <th>3</th>\n",
       "      <td>4</td>\n",
       "      <td>4.082048</td>\n",
       "      <td>144</td>\n",
       "    </tr>\n",
       "    <tr>\n",
       "      <th>4</th>\n",
       "      <td>5</td>\n",
       "      <td>4.078426</td>\n",
       "      <td>1033</td>\n",
       "    </tr>\n",
       "  </tbody>\n",
       "</table>\n",
       "</div>"
      ],
      "text/plain": [
       "   rank     score  brandId\n",
       "0     1  4.346165      109\n",
       "1     2  4.101579      660\n",
       "2     3  4.089639      792\n",
       "3     4  4.082048      144\n",
       "4     5  4.078426     1033"
      ]
     },
     "execution_count": 14,
     "metadata": {},
     "output_type": "execute_result"
    }
   ],
   "source": [
    "rankings_202311 = pd.read_csv('csv_data/overall_ranking_202311.csv')\n",
    "rankings_202311.drop(columns=['Unnamed: 0'], inplace=True)\n",
    "rankings_202311.head()"
   ]
  },
  {
   "cell_type": "code",
   "execution_count": 15,
   "metadata": {},
   "outputs": [
    {
     "data": {
      "text/html": [
       "<div>\n",
       "<style scoped>\n",
       "    .dataframe tbody tr th:only-of-type {\n",
       "        vertical-align: middle;\n",
       "    }\n",
       "\n",
       "    .dataframe tbody tr th {\n",
       "        vertical-align: top;\n",
       "    }\n",
       "\n",
       "    .dataframe thead th {\n",
       "        text-align: right;\n",
       "    }\n",
       "</style>\n",
       "<table border=\"1\" class=\"dataframe\">\n",
       "  <thead>\n",
       "    <tr style=\"text-align: right;\">\n",
       "      <th></th>\n",
       "      <th>brandId</th>\n",
       "      <th>華やか</th>\n",
       "      <th>芳醇</th>\n",
       "      <th>重厚</th>\n",
       "      <th>穏やか</th>\n",
       "      <th>ドライ</th>\n",
       "      <th>軽快</th>\n",
       "    </tr>\n",
       "  </thead>\n",
       "  <tbody>\n",
       "    <tr>\n",
       "      <th>0</th>\n",
       "      <td>2</td>\n",
       "      <td>0.269063</td>\n",
       "      <td>0.504936</td>\n",
       "      <td>0.327400</td>\n",
       "      <td>0.422878</td>\n",
       "      <td>0.460952</td>\n",
       "      <td>0.417315</td>\n",
       "    </tr>\n",
       "    <tr>\n",
       "      <th>1</th>\n",
       "      <td>3</td>\n",
       "      <td>0.330239</td>\n",
       "      <td>0.398706</td>\n",
       "      <td>0.202154</td>\n",
       "      <td>0.505910</td>\n",
       "      <td>0.486143</td>\n",
       "      <td>0.445902</td>\n",
       "    </tr>\n",
       "    <tr>\n",
       "      <th>2</th>\n",
       "      <td>4</td>\n",
       "      <td>0.476028</td>\n",
       "      <td>0.435502</td>\n",
       "      <td>0.284076</td>\n",
       "      <td>0.321472</td>\n",
       "      <td>0.296539</td>\n",
       "      <td>0.558351</td>\n",
       "    </tr>\n",
       "    <tr>\n",
       "      <th>3</th>\n",
       "      <td>7</td>\n",
       "      <td>0.213287</td>\n",
       "      <td>0.480815</td>\n",
       "      <td>0.263402</td>\n",
       "      <td>0.679518</td>\n",
       "      <td>0.337940</td>\n",
       "      <td>0.279280</td>\n",
       "    </tr>\n",
       "    <tr>\n",
       "      <th>4</th>\n",
       "      <td>9</td>\n",
       "      <td>0.418036</td>\n",
       "      <td>0.533387</td>\n",
       "      <td>0.302480</td>\n",
       "      <td>0.432862</td>\n",
       "      <td>0.247361</td>\n",
       "      <td>0.447987</td>\n",
       "    </tr>\n",
       "  </tbody>\n",
       "</table>\n",
       "</div>"
      ],
      "text/plain": [
       "   brandId       華やか        芳醇        重厚       穏やか       ドライ        軽快\n",
       "0        2  0.269063  0.504936  0.327400  0.422878  0.460952  0.417315\n",
       "1        3  0.330239  0.398706  0.202154  0.505910  0.486143  0.445902\n",
       "2        4  0.476028  0.435502  0.284076  0.321472  0.296539  0.558351\n",
       "3        7  0.213287  0.480815  0.263402  0.679518  0.337940  0.279280\n",
       "4        9  0.418036  0.533387  0.302480  0.432862  0.247361  0.447987"
      ]
     },
     "execution_count": 15,
     "metadata": {},
     "output_type": "execute_result"
    }
   ],
   "source": [
    "flavor_chart = pd.read_csv('csv_data/flavor_chart.csv')\n",
    "flavor_chart.head()"
   ]
  },
  {
   "cell_type": "code",
   "execution_count": 53,
   "metadata": {},
   "outputs": [
    {
     "name": "stdout",
     "output_type": "stream",
     "text": [
      "(1332, 7)\n"
     ]
    },
    {
     "data": {
      "text/html": [
       "<div>\n",
       "<style scoped>\n",
       "    .dataframe tbody tr th:only-of-type {\n",
       "        vertical-align: middle;\n",
       "    }\n",
       "\n",
       "    .dataframe tbody tr th {\n",
       "        vertical-align: top;\n",
       "    }\n",
       "\n",
       "    .dataframe thead th {\n",
       "        text-align: right;\n",
       "    }\n",
       "</style>\n",
       "<table border=\"1\" class=\"dataframe\">\n",
       "  <thead>\n",
       "    <tr style=\"text-align: right;\">\n",
       "      <th></th>\n",
       "      <th>brandId</th>\n",
       "      <th>華やか</th>\n",
       "      <th>芳醇</th>\n",
       "      <th>重厚</th>\n",
       "      <th>穏やか</th>\n",
       "      <th>ドライ</th>\n",
       "      <th>軽快</th>\n",
       "    </tr>\n",
       "  </thead>\n",
       "  <tbody>\n",
       "  </tbody>\n",
       "</table>\n",
       "</div>"
      ],
      "text/plain": [
       "Empty DataFrame\n",
       "Columns: [brandId, 華やか, 芳醇, 重厚, 穏やか, ドライ, 軽快]\n",
       "Index: []"
      ]
     },
     "execution_count": 53,
     "metadata": {},
     "output_type": "execute_result"
    }
   ],
   "source": [
    "print(flavor_chart.shape)\n",
    "flavor_chart[flavor_chart['brandId'].duplicated()]"
   ]
  },
  {
   "cell_type": "markdown",
   "metadata": {},
   "source": [
    "All rows in flavor_chart denote unique products."
   ]
  },
  {
   "cell_type": "code",
   "execution_count": 16,
   "metadata": {},
   "outputs": [
    {
     "data": {
      "text/html": [
       "<div>\n",
       "<style scoped>\n",
       "    .dataframe tbody tr th:only-of-type {\n",
       "        vertical-align: middle;\n",
       "    }\n",
       "\n",
       "    .dataframe tbody tr th {\n",
       "        vertical-align: top;\n",
       "    }\n",
       "\n",
       "    .dataframe thead th {\n",
       "        text-align: right;\n",
       "    }\n",
       "</style>\n",
       "<table border=\"1\" class=\"dataframe\">\n",
       "  <thead>\n",
       "    <tr style=\"text-align: right;\">\n",
       "      <th></th>\n",
       "      <th>brandId</th>\n",
       "      <th>tagIds</th>\n",
       "    </tr>\n",
       "  </thead>\n",
       "  <tbody>\n",
       "    <tr>\n",
       "      <th>0</th>\n",
       "      <td>1</td>\n",
       "      <td>[]</td>\n",
       "    </tr>\n",
       "    <tr>\n",
       "      <th>1</th>\n",
       "      <td>2</td>\n",
       "      <td>[3, 5, 12, 7, 2, 43, 36, 6, 23, 48, 34, 24, 9,...</td>\n",
       "    </tr>\n",
       "    <tr>\n",
       "      <th>2</th>\n",
       "      <td>3</td>\n",
       "      <td>[3, 27, 167, 242, 7, 5, 94]</td>\n",
       "    </tr>\n",
       "    <tr>\n",
       "      <th>3</th>\n",
       "      <td>4</td>\n",
       "      <td>[105, 242, 7, 225, 3, 235, 123]</td>\n",
       "    </tr>\n",
       "    <tr>\n",
       "      <th>4</th>\n",
       "      <td>5</td>\n",
       "      <td>[23, 36, 20, 34, 12]</td>\n",
       "    </tr>\n",
       "  </tbody>\n",
       "</table>\n",
       "</div>"
      ],
      "text/plain": [
       "   brandId                                             tagIds\n",
       "0        1                                                 []\n",
       "1        2  [3, 5, 12, 7, 2, 43, 36, 6, 23, 48, 34, 24, 9,...\n",
       "2        3                        [3, 27, 167, 242, 7, 5, 94]\n",
       "3        4                    [105, 242, 7, 225, 3, 235, 123]\n",
       "4        5                               [23, 36, 20, 34, 12]"
      ]
     },
     "execution_count": 16,
     "metadata": {},
     "output_type": "execute_result"
    }
   ],
   "source": [
    "brand_flavor_tags = pd.read_csv('csv_data/brand_flavorTags.csv')\n",
    "brand_flavor_tags.head()"
   ]
  },
  {
   "cell_type": "code",
   "execution_count": 54,
   "metadata": {},
   "outputs": [
    {
     "name": "stdout",
     "output_type": "stream",
     "text": [
      "(2807, 2)\n"
     ]
    },
    {
     "data": {
      "text/html": [
       "<div>\n",
       "<style scoped>\n",
       "    .dataframe tbody tr th:only-of-type {\n",
       "        vertical-align: middle;\n",
       "    }\n",
       "\n",
       "    .dataframe tbody tr th {\n",
       "        vertical-align: top;\n",
       "    }\n",
       "\n",
       "    .dataframe thead th {\n",
       "        text-align: right;\n",
       "    }\n",
       "</style>\n",
       "<table border=\"1\" class=\"dataframe\">\n",
       "  <thead>\n",
       "    <tr style=\"text-align: right;\">\n",
       "      <th></th>\n",
       "      <th>brandId</th>\n",
       "      <th>tagIds</th>\n",
       "    </tr>\n",
       "  </thead>\n",
       "  <tbody>\n",
       "  </tbody>\n",
       "</table>\n",
       "</div>"
      ],
      "text/plain": [
       "Empty DataFrame\n",
       "Columns: [brandId, tagIds]\n",
       "Index: []"
      ]
     },
     "execution_count": 54,
     "metadata": {},
     "output_type": "execute_result"
    }
   ],
   "source": [
    "print(brand_flavor_tags.shape)\n",
    "brand_flavor_tags[brand_flavor_tags['brandId'].duplicated()]"
   ]
  },
  {
   "cell_type": "markdown",
   "metadata": {},
   "source": [
    "It looks like 2,807 unique brands are included in the brand_flavor_tags dataframe."
   ]
  },
  {
   "cell_type": "markdown",
   "metadata": {},
   "source": [
    "# Prefecture Level Analysis"
   ]
  },
  {
   "cell_type": "markdown",
   "metadata": {},
   "source": [
    "I will attempt to answer the following two questions:   \n",
    "1. Which prefectures produce the most brands?\n",
    "2. Which prefectures produce the most popular brands?\n",
    "3. Which prefecutres have the most breweries?"
   ]
  },
  {
   "cell_type": "code",
   "execution_count": 128,
   "metadata": {},
   "outputs": [
    {
     "name": "stdout",
     "output_type": "stream",
     "text": [
      "(3146, 6)\n"
     ]
    },
    {
     "data": {
      "text/html": [
       "<div>\n",
       "<style scoped>\n",
       "    .dataframe tbody tr th:only-of-type {\n",
       "        vertical-align: middle;\n",
       "    }\n",
       "\n",
       "    .dataframe tbody tr th {\n",
       "        vertical-align: top;\n",
       "    }\n",
       "\n",
       "    .dataframe thead th {\n",
       "        text-align: right;\n",
       "    }\n",
       "</style>\n",
       "<table border=\"1\" class=\"dataframe\">\n",
       "  <thead>\n",
       "    <tr style=\"text-align: right;\">\n",
       "      <th></th>\n",
       "      <th>brand_id</th>\n",
       "      <th>brand_name</th>\n",
       "      <th>brewery_id</th>\n",
       "      <th>brewery_name</th>\n",
       "      <th>area_id</th>\n",
       "      <th>areas</th>\n",
       "    </tr>\n",
       "  </thead>\n",
       "  <tbody>\n",
       "    <tr>\n",
       "      <th>0</th>\n",
       "      <td>1</td>\n",
       "      <td>新十津川</td>\n",
       "      <td>1</td>\n",
       "      <td>金滴酒造</td>\n",
       "      <td>1.0</td>\n",
       "      <td>北海道</td>\n",
       "    </tr>\n",
       "    <tr>\n",
       "      <th>1</th>\n",
       "      <td>2</td>\n",
       "      <td>男山</td>\n",
       "      <td>2</td>\n",
       "      <td>男山</td>\n",
       "      <td>1.0</td>\n",
       "      <td>北海道</td>\n",
       "    </tr>\n",
       "    <tr>\n",
       "      <th>2</th>\n",
       "      <td>3</td>\n",
       "      <td>大雪乃蔵</td>\n",
       "      <td>3</td>\n",
       "      <td>合同酒精</td>\n",
       "      <td>1.0</td>\n",
       "      <td>北海道</td>\n",
       "    </tr>\n",
       "    <tr>\n",
       "      <th>3</th>\n",
       "      <td>4</td>\n",
       "      <td>宝川</td>\n",
       "      <td>4</td>\n",
       "      <td>田中酒造</td>\n",
       "      <td>1.0</td>\n",
       "      <td>北海道</td>\n",
       "    </tr>\n",
       "    <tr>\n",
       "      <th>4</th>\n",
       "      <td>5</td>\n",
       "      <td>亀甲蔵</td>\n",
       "      <td>4</td>\n",
       "      <td>田中酒造</td>\n",
       "      <td>1.0</td>\n",
       "      <td>北海道</td>\n",
       "    </tr>\n",
       "  </tbody>\n",
       "</table>\n",
       "</div>"
      ],
      "text/plain": [
       "   brand_id brand_name  brewery_id brewery_name  area_id areas\n",
       "0         1       新十津川           1         金滴酒造      1.0   北海道\n",
       "1         2         男山           2           男山      1.0   北海道\n",
       "2         3       大雪乃蔵           3         合同酒精      1.0   北海道\n",
       "3         4         宝川           4         田中酒造      1.0   北海道\n",
       "4         5        亀甲蔵           4         田中酒造      1.0   北海道"
      ]
     },
     "execution_count": 128,
     "metadata": {},
     "output_type": "execute_result"
    }
   ],
   "source": [
    "brands_with_prefectures = brands.merge(breweries, on='brewery_id', how='left').merge(locations,\n",
    "                                                                                     on='area_id', how='left')\n",
    "print(brands_with_prefectures.shape)\n",
    "brands_with_prefectures.head()"
   ]
  },
  {
   "cell_type": "code",
   "execution_count": 129,
   "metadata": {},
   "outputs": [
    {
     "data": {
      "text/plain": [
       "新潟県    237\n",
       "長野県    161\n",
       "京都府    145\n",
       "福島県    140\n",
       "兵庫県    137\n",
       "山形県    112\n",
       "秋田県    100\n",
       "宮城県     84\n",
       "岐阜県     83\n",
       "福岡県     82\n",
       "Name: areas, dtype: int64"
      ]
     },
     "execution_count": 129,
     "metadata": {},
     "output_type": "execute_result"
    }
   ],
   "source": [
    "top_ten_pref = brands_with_prefectures['areas'].value_counts()[:10]\n",
    "top_ten_pref"
   ]
  },
  {
   "cell_type": "code",
   "execution_count": 130,
   "metadata": {},
   "outputs": [
    {
     "name": "stderr",
     "output_type": "stream",
     "text": [
      "/Users/ryantenbarge/.pyenv/versions/3.10.6/envs/lewagon/lib/python3.10/site-packages/seaborn/_decorators.py:36: FutureWarning: Pass the following variables as keyword args: x, y. From version 0.12, the only valid positional argument will be `data`, and passing other arguments without an explicit keyword will result in an error or misinterpretation.\n",
      "  warnings.warn(\n"
     ]
    },
    {
     "data": {
      "text/plain": [
       "Text(0.5, 1.0, 'Prefectures Which Make the Most Brands of Sake')"
      ]
     },
     "execution_count": 130,
     "metadata": {},
     "output_type": "execute_result"
    },
    {
     "data": {
      "image/png": "[encoded data removed]",
      "text/plain": [
       "<Figure size 1200x500 with 1 Axes>"
      ]
     },
     "metadata": {},
     "output_type": "display_data"
    }
   ],
   "source": [
    "f, ax = plt.subplots(figsize=(12, 5))\n",
    "sns.barplot(top_ten_pref.index, top_ten_pref.values)\n",
    "plt.title('Prefectures Which Make the Most Brands of Sake')"
   ]
  },
  {
   "cell_type": "code",
   "execution_count": 131,
   "metadata": {},
   "outputs": [
    {
     "data": {
      "text/html": [
       "<div>\n",
       "<style scoped>\n",
       "    .dataframe tbody tr th:only-of-type {\n",
       "        vertical-align: middle;\n",
       "    }\n",
       "\n",
       "    .dataframe tbody tr th {\n",
       "        vertical-align: top;\n",
       "    }\n",
       "\n",
       "    .dataframe thead th {\n",
       "        text-align: right;\n",
       "    }\n",
       "</style>\n",
       "<table border=\"1\" class=\"dataframe\">\n",
       "  <thead>\n",
       "    <tr style=\"text-align: right;\">\n",
       "      <th></th>\n",
       "      <th>rank</th>\n",
       "      <th>score</th>\n",
       "      <th>brand_id</th>\n",
       "    </tr>\n",
       "  </thead>\n",
       "  <tbody>\n",
       "    <tr>\n",
       "      <th>0</th>\n",
       "      <td>1</td>\n",
       "      <td>4.346165</td>\n",
       "      <td>109</td>\n",
       "    </tr>\n",
       "    <tr>\n",
       "      <th>1</th>\n",
       "      <td>2</td>\n",
       "      <td>4.101579</td>\n",
       "      <td>660</td>\n",
       "    </tr>\n",
       "    <tr>\n",
       "      <th>2</th>\n",
       "      <td>3</td>\n",
       "      <td>4.089639</td>\n",
       "      <td>792</td>\n",
       "    </tr>\n",
       "    <tr>\n",
       "      <th>3</th>\n",
       "      <td>4</td>\n",
       "      <td>4.082048</td>\n",
       "      <td>144</td>\n",
       "    </tr>\n",
       "    <tr>\n",
       "      <th>4</th>\n",
       "      <td>5</td>\n",
       "      <td>4.078426</td>\n",
       "      <td>1033</td>\n",
       "    </tr>\n",
       "  </tbody>\n",
       "</table>\n",
       "</div>"
      ],
      "text/plain": [
       "   rank     score  brand_id\n",
       "0     1  4.346165       109\n",
       "1     2  4.101579       660\n",
       "2     3  4.089639       792\n",
       "3     4  4.082048       144\n",
       "4     5  4.078426      1033"
      ]
     },
     "execution_count": 131,
     "metadata": {},
     "output_type": "execute_result"
    }
   ],
   "source": [
    "# Need to rename the brandId column to brand_id in the rankings_202311 df to match others\n",
    "#rankings_202311.rename(columns={'brandId':'brand_id'}, inplace=True)\n",
    "rankings_202311.head()"
   ]
  },
  {
   "cell_type": "code",
   "execution_count": 132,
   "metadata": {},
   "outputs": [
    {
     "data": {
      "text/html": [
       "<div>\n",
       "<style scoped>\n",
       "    .dataframe tbody tr th:only-of-type {\n",
       "        vertical-align: middle;\n",
       "    }\n",
       "\n",
       "    .dataframe tbody tr th {\n",
       "        vertical-align: top;\n",
       "    }\n",
       "\n",
       "    .dataframe thead th {\n",
       "        text-align: right;\n",
       "    }\n",
       "</style>\n",
       "<table border=\"1\" class=\"dataframe\">\n",
       "  <thead>\n",
       "    <tr style=\"text-align: right;\">\n",
       "      <th></th>\n",
       "      <th>brand_id</th>\n",
       "      <th>brand_name</th>\n",
       "      <th>brewery_id</th>\n",
       "      <th>brewery_name</th>\n",
       "      <th>area_id</th>\n",
       "      <th>areas</th>\n",
       "      <th>rank</th>\n",
       "      <th>score</th>\n",
       "    </tr>\n",
       "  </thead>\n",
       "  <tbody>\n",
       "    <tr>\n",
       "      <th>0</th>\n",
       "      <td>109</td>\n",
       "      <td>新政</td>\n",
       "      <td>76</td>\n",
       "      <td>新政酒造</td>\n",
       "      <td>5.0</td>\n",
       "      <td>秋田県</td>\n",
       "      <td>1</td>\n",
       "      <td>4.346165</td>\n",
       "    </tr>\n",
       "    <tr>\n",
       "      <th>1</th>\n",
       "      <td>660</td>\n",
       "      <td>而今</td>\n",
       "      <td>488</td>\n",
       "      <td>木屋正酒造</td>\n",
       "      <td>24.0</td>\n",
       "      <td>三重県</td>\n",
       "      <td>2</td>\n",
       "      <td>4.101579</td>\n",
       "    </tr>\n",
       "    <tr>\n",
       "      <th>2</th>\n",
       "      <td>792</td>\n",
       "      <td>風の森</td>\n",
       "      <td>589</td>\n",
       "      <td>油長酒造</td>\n",
       "      <td>29.0</td>\n",
       "      <td>奈良県</td>\n",
       "      <td>3</td>\n",
       "      <td>4.089639</td>\n",
       "    </tr>\n",
       "    <tr>\n",
       "      <th>3</th>\n",
       "      <td>144</td>\n",
       "      <td>十四代</td>\n",
       "      <td>96</td>\n",
       "      <td>高木酒造</td>\n",
       "      <td>6.0</td>\n",
       "      <td>山形県</td>\n",
       "      <td>4</td>\n",
       "      <td>4.082048</td>\n",
       "    </tr>\n",
       "    <tr>\n",
       "      <th>4</th>\n",
       "      <td>1033</td>\n",
       "      <td>作</td>\n",
       "      <td>835</td>\n",
       "      <td>清水清三郎商店</td>\n",
       "      <td>24.0</td>\n",
       "      <td>三重県</td>\n",
       "      <td>5</td>\n",
       "      <td>4.078426</td>\n",
       "    </tr>\n",
       "    <tr>\n",
       "      <th>...</th>\n",
       "      <td>...</td>\n",
       "      <td>...</td>\n",
       "      <td>...</td>\n",
       "      <td>...</td>\n",
       "      <td>...</td>\n",
       "      <td>...</td>\n",
       "      <td>...</td>\n",
       "      <td>...</td>\n",
       "    </tr>\n",
       "    <tr>\n",
       "      <th>95</th>\n",
       "      <td>1633</td>\n",
       "      <td>姿</td>\n",
       "      <td>881</td>\n",
       "      <td>飯沼銘醸</td>\n",
       "      <td>9.0</td>\n",
       "      <td>栃木県</td>\n",
       "      <td>96</td>\n",
       "      <td>4.006712</td>\n",
       "    </tr>\n",
       "    <tr>\n",
       "      <th>96</th>\n",
       "      <td>1160</td>\n",
       "      <td>町田酒造</td>\n",
       "      <td>194</td>\n",
       "      <td>町田酒造店</td>\n",
       "      <td>10.0</td>\n",
       "      <td>群馬県</td>\n",
       "      <td>97</td>\n",
       "      <td>4.006711</td>\n",
       "    </tr>\n",
       "    <tr>\n",
       "      <th>97</th>\n",
       "      <td>1219</td>\n",
       "      <td>ばくれん</td>\n",
       "      <td>105</td>\n",
       "      <td>亀の井酒造</td>\n",
       "      <td>6.0</td>\n",
       "      <td>山形県</td>\n",
       "      <td>98</td>\n",
       "      <td>4.006711</td>\n",
       "    </tr>\n",
       "    <tr>\n",
       "      <th>98</th>\n",
       "      <td>92</td>\n",
       "      <td>ゆきの美人</td>\n",
       "      <td>63</td>\n",
       "      <td>秋田醸造</td>\n",
       "      <td>5.0</td>\n",
       "      <td>秋田県</td>\n",
       "      <td>99</td>\n",
       "      <td>4.006710</td>\n",
       "    </tr>\n",
       "    <tr>\n",
       "      <th>99</th>\n",
       "      <td>2401</td>\n",
       "      <td>宮泉</td>\n",
       "      <td>130</td>\n",
       "      <td>宮泉銘醸</td>\n",
       "      <td>7.0</td>\n",
       "      <td>福島県</td>\n",
       "      <td>100</td>\n",
       "      <td>4.006703</td>\n",
       "    </tr>\n",
       "  </tbody>\n",
       "</table>\n",
       "<p>100 rows × 8 columns</p>\n",
       "</div>"
      ],
      "text/plain": [
       "    brand_id brand_name  brewery_id brewery_name  area_id areas  rank  \\\n",
       "0        109         新政          76         新政酒造      5.0   秋田県     1   \n",
       "1        660         而今         488        木屋正酒造     24.0   三重県     2   \n",
       "2        792        風の森         589         油長酒造     29.0   奈良県     3   \n",
       "3        144        十四代          96         高木酒造      6.0   山形県     4   \n",
       "4       1033          作         835      清水清三郎商店     24.0   三重県     5   \n",
       "..       ...        ...         ...          ...      ...   ...   ...   \n",
       "95      1633          姿         881         飯沼銘醸      9.0   栃木県    96   \n",
       "96      1160       町田酒造         194        町田酒造店     10.0   群馬県    97   \n",
       "97      1219       ばくれん         105        亀の井酒造      6.0   山形県    98   \n",
       "98        92      ゆきの美人          63         秋田醸造      5.0   秋田県    99   \n",
       "99      2401         宮泉         130         宮泉銘醸      7.0   福島県   100   \n",
       "\n",
       "       score  \n",
       "0   4.346165  \n",
       "1   4.101579  \n",
       "2   4.089639  \n",
       "3   4.082048  \n",
       "4   4.078426  \n",
       "..       ...  \n",
       "95  4.006712  \n",
       "96  4.006711  \n",
       "97  4.006711  \n",
       "98  4.006710  \n",
       "99  4.006703  \n",
       "\n",
       "[100 rows x 8 columns]"
      ]
     },
     "execution_count": 132,
     "metadata": {},
     "output_type": "execute_result"
    }
   ],
   "source": [
    "brand_with_rankings = brands_with_prefectures.merge(rankings_202311, on='brand_id', how='right')\n",
    "brand_with_rankings"
   ]
  },
  {
   "cell_type": "code",
   "execution_count": 133,
   "metadata": {},
   "outputs": [
    {
     "data": {
      "text/plain": [
       "areas\n",
       "新潟県    8\n",
       "福島県    7\n",
       "山形県    7\n",
       "山口県    7\n",
       "秋田県    7\n",
       "宮城県    6\n",
       "石川県    4\n",
       "奈良県    4\n",
       "長野県    4\n",
       "京都府    3\n",
       "Name: brand_id, dtype: int64"
      ]
     },
     "execution_count": 133,
     "metadata": {},
     "output_type": "execute_result"
    }
   ],
   "source": [
    "most_popular_ken = brand_with_rankings.groupby(by='areas')['brand_id'].count().sort_values(ascending=False)[:10]\n",
    "most_popular_ken"
   ]
  },
  {
   "cell_type": "code",
   "execution_count": 134,
   "metadata": {},
   "outputs": [
    {
     "data": {
      "text/plain": [
       "Text(0.5, 1.0, 'Prefectures with the Highest Number of Brands Ranking in the Top 100')"
      ]
     },
     "execution_count": 134,
     "metadata": {},
     "output_type": "execute_result"
    },
    {
     "data": {
      "image/png": "[encoded data removed]",
      "text/plain": [
       "<Figure size 1200x500 with 1 Axes>"
      ]
     },
     "metadata": {},
     "output_type": "display_data"
    }
   ],
   "source": [
    "f, ax = plt.subplots(figsize=(12, 5))\n",
    "sns.barplot(x=most_popular_ken.index, y=most_popular_ken.values)\n",
    "plt.title('Prefectures with the Highest Number of Brands Ranking in the Top 100')"
   ]
  },
  {
   "cell_type": "code",
   "execution_count": 136,
   "metadata": {},
   "outputs": [
    {
     "data": {
      "text/html": [
       "<div>\n",
       "<style scoped>\n",
       "    .dataframe tbody tr th:only-of-type {\n",
       "        vertical-align: middle;\n",
       "    }\n",
       "\n",
       "    .dataframe tbody tr th {\n",
       "        vertical-align: top;\n",
       "    }\n",
       "\n",
       "    .dataframe thead th {\n",
       "        text-align: right;\n",
       "    }\n",
       "</style>\n",
       "<table border=\"1\" class=\"dataframe\">\n",
       "  <thead>\n",
       "    <tr style=\"text-align: right;\">\n",
       "      <th></th>\n",
       "      <th>brewery_id</th>\n",
       "      <th>brewery_name</th>\n",
       "      <th>area_id</th>\n",
       "      <th>areas</th>\n",
       "    </tr>\n",
       "  </thead>\n",
       "  <tbody>\n",
       "    <tr>\n",
       "      <th>0</th>\n",
       "      <td>1</td>\n",
       "      <td>金滴酒造</td>\n",
       "      <td>1</td>\n",
       "      <td>北海道</td>\n",
       "    </tr>\n",
       "    <tr>\n",
       "      <th>1</th>\n",
       "      <td>2</td>\n",
       "      <td>男山</td>\n",
       "      <td>1</td>\n",
       "      <td>北海道</td>\n",
       "    </tr>\n",
       "    <tr>\n",
       "      <th>2</th>\n",
       "      <td>3</td>\n",
       "      <td>合同酒精</td>\n",
       "      <td>1</td>\n",
       "      <td>北海道</td>\n",
       "    </tr>\n",
       "    <tr>\n",
       "      <th>3</th>\n",
       "      <td>4</td>\n",
       "      <td>田中酒造</td>\n",
       "      <td>1</td>\n",
       "      <td>北海道</td>\n",
       "    </tr>\n",
       "    <tr>\n",
       "      <th>4</th>\n",
       "      <td>5</td>\n",
       "      <td>北の誉酒造</td>\n",
       "      <td>1</td>\n",
       "      <td>北海道</td>\n",
       "    </tr>\n",
       "  </tbody>\n",
       "</table>\n",
       "</div>"
      ],
      "text/plain": [
       "   brewery_id brewery_name  area_id areas\n",
       "0           1         金滴酒造        1   北海道\n",
       "1           2           男山        1   北海道\n",
       "2           3         合同酒精        1   北海道\n",
       "3           4         田中酒造        1   北海道\n",
       "4           5        北の誉酒造        1   北海道"
      ]
     },
     "execution_count": 136,
     "metadata": {},
     "output_type": "execute_result"
    }
   ],
   "source": [
    "brew_locals = breweries.merge(locations, on='area_id', how='left')\n",
    "brew_locals.head()"
   ]
  },
  {
   "cell_type": "code",
   "execution_count": 140,
   "metadata": {},
   "outputs": [
    {
     "data": {
      "text/plain": [
       "areas\n",
       "新潟県    112\n",
       "兵庫県     95\n",
       "長野県     90\n",
       "山形県     75\n",
       "福島県     68\n",
       "福岡県     53\n",
       "岐阜県     53\n",
       "京都府     49\n",
       "広島県     49\n",
       "秋田県     47\n",
       "Name: brewery_id, dtype: int64"
      ]
     },
     "execution_count": 140,
     "metadata": {},
     "output_type": "execute_result"
    }
   ],
   "source": [
    "most_brews_ken = brew_locals.groupby(by='areas')['brewery_id'].count().sort_values(ascending=False)[:10]\n",
    "most_brews_ken"
   ]
  },
  {
   "cell_type": "code",
   "execution_count": 141,
   "metadata": {},
   "outputs": [
    {
     "data": {
      "text/plain": [
       "Text(0.5, 1.0, 'Prefectures with the Most Breweries')"
      ]
     },
     "execution_count": 141,
     "metadata": {},
     "output_type": "execute_result"
    },
    {
     "data": {
      "image/png": "[encoded data removed]",
      "text/plain": [
       "<Figure size 1200x500 with 1 Axes>"
      ]
     },
     "metadata": {},
     "output_type": "display_data"
    }
   ],
   "source": [
    "f, ax = plt.subplots(figsize=(12, 5))\n",
    "sns.barplot(x=most_brews_ken.index, y=most_brews_ken.values)\n",
    "plt.title('Prefectures with the Most Breweries')"
   ]
  },
  {
   "cell_type": "markdown",
   "metadata": {},
   "source": [
    "In conclusion:\n",
    "1. Which prefectures produce the most brands?    \n",
    "\n",
    "**Niigata, Nagano, Fukushima, and Kyoto make the most brands of sake**\n",
    "\n",
    "2. Which prefectures produce the most popular brands?    \n",
    "\n",
    "**Niigata, Fukushima, Yamagata, and Yamaguchi have the most brands ranking in the top 100**\n",
    "\n",
    "3. Which prefecutres have the most breweries?    \n",
    "\n",
    "**Niigata, Hyogo, Nagano, and Yamagata have the greatest number of breweries**"
   ]
  },
  {
   "cell_type": "markdown",
   "metadata": {},
   "source": [
    "## As a final note, is there any prefecture which has multiple brands in the top 10??"
   ]
  },
  {
   "cell_type": "code",
   "execution_count": 145,
   "metadata": {},
   "outputs": [
    {
     "data": {
      "text/plain": [
       "areas\n",
       "三重県    2\n",
       "栃木県    2\n",
       "奈良県    1\n",
       "山形県    1\n",
       "岩手県    1\n",
       "福島県    1\n",
       "秋田県    1\n",
       "青森県    1\n",
       "Name: brand_id, dtype: int64"
      ]
     },
     "execution_count": 145,
     "metadata": {},
     "output_type": "execute_result"
    }
   ],
   "source": [
    "brand_with_rankings[:10].groupby(by='areas')['brand_id'].count().sort_values(ascending=False)"
   ]
  },
  {
   "cell_type": "markdown",
   "metadata": {},
   "source": [
    "It looks like **Mie** and **Tochigi** both have **2** sake brands each in the top 10."
   ]
  },
  {
   "cell_type": "markdown",
   "metadata": {},
   "source": [
    "# Flavor Analysis"
   ]
  },
  {
   "cell_type": "markdown",
   "metadata": {},
   "source": [
    "First, let's focus on the Top 100 brands and see how their flavor profiles compare. Are there any similarities?"
   ]
  },
  {
   "cell_type": "code",
   "execution_count": 185,
   "metadata": {},
   "outputs": [
    {
     "data": {
      "text/plain": [
       "(1332, 7)"
      ]
     },
     "execution_count": 185,
     "metadata": {},
     "output_type": "execute_result"
    }
   ],
   "source": [
    "# again, we need to rename the brandId column to match the other tables\n",
    "#flavor_chart.rename(columns={'brandId':'brand_id'}, inplace=True)\n",
    "flavor_chart.shape"
   ]
  },
  {
   "cell_type": "code",
   "execution_count": 152,
   "metadata": {},
   "outputs": [
    {
     "data": {
      "text/html": [
       "<div>\n",
       "<style scoped>\n",
       "    .dataframe tbody tr th:only-of-type {\n",
       "        vertical-align: middle;\n",
       "    }\n",
       "\n",
       "    .dataframe tbody tr th {\n",
       "        vertical-align: top;\n",
       "    }\n",
       "\n",
       "    .dataframe thead th {\n",
       "        text-align: right;\n",
       "    }\n",
       "</style>\n",
       "<table border=\"1\" class=\"dataframe\">\n",
       "  <thead>\n",
       "    <tr style=\"text-align: right;\">\n",
       "      <th></th>\n",
       "      <th>brand_id</th>\n",
       "      <th>brand_name</th>\n",
       "      <th>brewery_id</th>\n",
       "      <th>brewery_name</th>\n",
       "      <th>area_id</th>\n",
       "      <th>areas</th>\n",
       "      <th>rank</th>\n",
       "      <th>score</th>\n",
       "      <th>華やか</th>\n",
       "      <th>芳醇</th>\n",
       "      <th>重厚</th>\n",
       "      <th>穏やか</th>\n",
       "      <th>ドライ</th>\n",
       "      <th>軽快</th>\n",
       "    </tr>\n",
       "  </thead>\n",
       "  <tbody>\n",
       "    <tr>\n",
       "      <th>0</th>\n",
       "      <td>109</td>\n",
       "      <td>新政</td>\n",
       "      <td>76</td>\n",
       "      <td>新政酒造</td>\n",
       "      <td>5.0</td>\n",
       "      <td>秋田県</td>\n",
       "      <td>1</td>\n",
       "      <td>4.346165</td>\n",
       "      <td>0.511599</td>\n",
       "      <td>0.463938</td>\n",
       "      <td>0.281150</td>\n",
       "      <td>0.299996</td>\n",
       "      <td>0.198018</td>\n",
       "      <td>0.561048</td>\n",
       "    </tr>\n",
       "    <tr>\n",
       "      <th>1</th>\n",
       "      <td>660</td>\n",
       "      <td>而今</td>\n",
       "      <td>488</td>\n",
       "      <td>木屋正酒造</td>\n",
       "      <td>24.0</td>\n",
       "      <td>三重県</td>\n",
       "      <td>2</td>\n",
       "      <td>4.101579</td>\n",
       "      <td>0.460587</td>\n",
       "      <td>0.554260</td>\n",
       "      <td>0.273549</td>\n",
       "      <td>0.382683</td>\n",
       "      <td>0.254057</td>\n",
       "      <td>0.441401</td>\n",
       "    </tr>\n",
       "    <tr>\n",
       "      <th>2</th>\n",
       "      <td>792</td>\n",
       "      <td>風の森</td>\n",
       "      <td>589</td>\n",
       "      <td>油長酒造</td>\n",
       "      <td>29.0</td>\n",
       "      <td>奈良県</td>\n",
       "      <td>3</td>\n",
       "      <td>4.089639</td>\n",
       "      <td>0.512314</td>\n",
       "      <td>0.432380</td>\n",
       "      <td>0.245591</td>\n",
       "      <td>0.253705</td>\n",
       "      <td>0.228730</td>\n",
       "      <td>0.611215</td>\n",
       "    </tr>\n",
       "    <tr>\n",
       "      <th>3</th>\n",
       "      <td>144</td>\n",
       "      <td>十四代</td>\n",
       "      <td>96</td>\n",
       "      <td>高木酒造</td>\n",
       "      <td>6.0</td>\n",
       "      <td>山形県</td>\n",
       "      <td>4</td>\n",
       "      <td>4.082048</td>\n",
       "      <td>0.500910</td>\n",
       "      <td>0.576209</td>\n",
       "      <td>0.266228</td>\n",
       "      <td>0.363318</td>\n",
       "      <td>0.218211</td>\n",
       "      <td>0.408140</td>\n",
       "    </tr>\n",
       "    <tr>\n",
       "      <th>4</th>\n",
       "      <td>1033</td>\n",
       "      <td>作</td>\n",
       "      <td>835</td>\n",
       "      <td>清水清三郎商店</td>\n",
       "      <td>24.0</td>\n",
       "      <td>三重県</td>\n",
       "      <td>5</td>\n",
       "      <td>4.078426</td>\n",
       "      <td>0.536077</td>\n",
       "      <td>0.515444</td>\n",
       "      <td>0.224300</td>\n",
       "      <td>0.353433</td>\n",
       "      <td>0.264812</td>\n",
       "      <td>0.448987</td>\n",
       "    </tr>\n",
       "  </tbody>\n",
       "</table>\n",
       "</div>"
      ],
      "text/plain": [
       "   brand_id brand_name  brewery_id brewery_name  area_id areas  rank  \\\n",
       "0       109         新政          76         新政酒造      5.0   秋田県     1   \n",
       "1       660         而今         488        木屋正酒造     24.0   三重県     2   \n",
       "2       792        風の森         589         油長酒造     29.0   奈良県     3   \n",
       "3       144        十四代          96         高木酒造      6.0   山形県     4   \n",
       "4      1033          作         835      清水清三郎商店     24.0   三重県     5   \n",
       "\n",
       "      score       華やか        芳醇        重厚       穏やか       ドライ        軽快  \n",
       "0  4.346165  0.511599  0.463938  0.281150  0.299996  0.198018  0.561048  \n",
       "1  4.101579  0.460587  0.554260  0.273549  0.382683  0.254057  0.441401  \n",
       "2  4.089639  0.512314  0.432380  0.245591  0.253705  0.228730  0.611215  \n",
       "3  4.082048  0.500910  0.576209  0.266228  0.363318  0.218211  0.408140  \n",
       "4  4.078426  0.536077  0.515444  0.224300  0.353433  0.264812  0.448987  "
      ]
     },
     "execution_count": 152,
     "metadata": {},
     "output_type": "execute_result"
    }
   ],
   "source": [
    "brand_ranking_profiles = brand_with_rankings.merge(flavor_chart, on='brand_id', how='inner')\n",
    "brand_ranking_profiles.head()"
   ]
  },
  {
   "cell_type": "code",
   "execution_count": 184,
   "metadata": {},
   "outputs": [
    {
     "data": {
      "text/plain": [
       "Text(0.5, 1.0, 'Number 10 Sake')"
      ]
     },
     "execution_count": 184,
     "metadata": {},
     "output_type": "execute_result"
    },
    {
     "data": {
      "image/png": "[encoded data removed]",
      "text/plain": [
       "<Figure size 2000x1000 with 10 Axes>"
      ]
     },
     "metadata": {},
     "output_type": "display_data"
    }
   ],
   "source": [
    "fig, axes = plt.subplots(nrows=2, ncols=5, figsize=(20, 10))\n",
    "fig.suptitle('Visual Representation of Flavor Profiles of Top 10 Sake Brands')\n",
    "sns.barplot(ax=axes[0][0], x=brand_ranking_profiles.iloc[0,8:].index, y=brand_ranking_profiles.iloc[0,8:].values)\n",
    "axes[0][0].set_title('Number 1 Sake')\n",
    "sns.barplot(ax=axes[0][1], x=brand_ranking_profiles.iloc[1,8:].index, y=brand_ranking_profiles.iloc[1,8:].values)\n",
    "axes[0][1].set_title('Number 2 Sake')\n",
    "sns.barplot(ax=axes[0][2], x=brand_ranking_profiles.iloc[2,8:].index, y=brand_ranking_profiles.iloc[2,8:].values)\n",
    "axes[0][2].set_title('Number 3 Sake')\n",
    "sns.barplot(ax=axes[0][3], x=brand_ranking_profiles.iloc[3,8:].index, y=brand_ranking_profiles.iloc[3,8:].values)\n",
    "axes[0][3].set_title('Number 4 Sake')\n",
    "sns.barplot(ax=axes[0][4], x=brand_ranking_profiles.iloc[4,8:].index, y=brand_ranking_profiles.iloc[4,8:].values)\n",
    "axes[0][4].set_title('Number 5 Sake')\n",
    "sns.barplot(ax=axes[1][0], x=brand_ranking_profiles.iloc[5,8:].index, y=brand_ranking_profiles.iloc[5,8:].values)\n",
    "axes[1][0].set_title('Number 6 Sake')\n",
    "sns.barplot(ax=axes[1][1], x=brand_ranking_profiles.iloc[6,8:].index, y=brand_ranking_profiles.iloc[6,8:].values)\n",
    "axes[1][1].set_title('Number 7 Sake')\n",
    "sns.barplot(ax=axes[1][2], x=brand_ranking_profiles.iloc[7,8:].index, y=brand_ranking_profiles.iloc[7,8:].values)\n",
    "axes[1][2].set_title('Number 8 Sake')\n",
    "sns.barplot(ax=axes[1][3], x=brand_ranking_profiles.iloc[8,8:].index, y=brand_ranking_profiles.iloc[8,8:].values)\n",
    "axes[1][3].set_title('Number 9 Sake')\n",
    "sns.barplot(ax=axes[1][4], x=brand_ranking_profiles.iloc[9,8:].index, y=brand_ranking_profiles.iloc[9,8:].values)\n",
    "axes[1][4].set_title('Number 10 Sake')\n"
   ]
  },
  {
   "cell_type": "markdown",
   "metadata": {},
   "source": [
    "Let's use the K-Nearest Neighbors Algorithm to compare sake flavor profiles. I will use the top 100 profiles as a training set. I will then choose a few other samples which were not in the top 100 and see which Top 100 sakes they are most similar to. Could there be some sakes whose flavor profiles are very similar to ones which are in the top 10?"
   ]
  },
  {
   "cell_type": "code",
   "execution_count": 197,
   "metadata": {},
   "outputs": [],
   "source": [
    "from sklearn.neighbors import KNeighborsRegressor\n",
    "from sklearn.preprocessing import StandardScaler"
   ]
  },
  {
   "cell_type": "code",
   "execution_count": 188,
   "metadata": {},
   "outputs": [
    {
     "data": {
      "text/html": [
       "<div>\n",
       "<style scoped>\n",
       "    .dataframe tbody tr th:only-of-type {\n",
       "        vertical-align: middle;\n",
       "    }\n",
       "\n",
       "    .dataframe tbody tr th {\n",
       "        vertical-align: top;\n",
       "    }\n",
       "\n",
       "    .dataframe thead th {\n",
       "        text-align: right;\n",
       "    }\n",
       "</style>\n",
       "<table border=\"1\" class=\"dataframe\">\n",
       "  <thead>\n",
       "    <tr style=\"text-align: right;\">\n",
       "      <th></th>\n",
       "      <th>brand_id</th>\n",
       "      <th>brand_name</th>\n",
       "      <th>brewery_id</th>\n",
       "      <th>brewery_name</th>\n",
       "      <th>area_id</th>\n",
       "      <th>areas</th>\n",
       "      <th>rank</th>\n",
       "      <th>score</th>\n",
       "      <th>華やか</th>\n",
       "      <th>芳醇</th>\n",
       "      <th>重厚</th>\n",
       "      <th>穏やか</th>\n",
       "      <th>ドライ</th>\n",
       "      <th>軽快</th>\n",
       "    </tr>\n",
       "  </thead>\n",
       "  <tbody>\n",
       "    <tr>\n",
       "      <th>0</th>\n",
       "      <td>109</td>\n",
       "      <td>新政</td>\n",
       "      <td>76</td>\n",
       "      <td>新政酒造</td>\n",
       "      <td>5.0</td>\n",
       "      <td>秋田県</td>\n",
       "      <td>1</td>\n",
       "      <td>4.346165</td>\n",
       "      <td>0.511599</td>\n",
       "      <td>0.463938</td>\n",
       "      <td>0.281150</td>\n",
       "      <td>0.299996</td>\n",
       "      <td>0.198018</td>\n",
       "      <td>0.561048</td>\n",
       "    </tr>\n",
       "    <tr>\n",
       "      <th>1</th>\n",
       "      <td>660</td>\n",
       "      <td>而今</td>\n",
       "      <td>488</td>\n",
       "      <td>木屋正酒造</td>\n",
       "      <td>24.0</td>\n",
       "      <td>三重県</td>\n",
       "      <td>2</td>\n",
       "      <td>4.101579</td>\n",
       "      <td>0.460587</td>\n",
       "      <td>0.554260</td>\n",
       "      <td>0.273549</td>\n",
       "      <td>0.382683</td>\n",
       "      <td>0.254057</td>\n",
       "      <td>0.441401</td>\n",
       "    </tr>\n",
       "    <tr>\n",
       "      <th>2</th>\n",
       "      <td>792</td>\n",
       "      <td>風の森</td>\n",
       "      <td>589</td>\n",
       "      <td>油長酒造</td>\n",
       "      <td>29.0</td>\n",
       "      <td>奈良県</td>\n",
       "      <td>3</td>\n",
       "      <td>4.089639</td>\n",
       "      <td>0.512314</td>\n",
       "      <td>0.432380</td>\n",
       "      <td>0.245591</td>\n",
       "      <td>0.253705</td>\n",
       "      <td>0.228730</td>\n",
       "      <td>0.611215</td>\n",
       "    </tr>\n",
       "    <tr>\n",
       "      <th>3</th>\n",
       "      <td>144</td>\n",
       "      <td>十四代</td>\n",
       "      <td>96</td>\n",
       "      <td>高木酒造</td>\n",
       "      <td>6.0</td>\n",
       "      <td>山形県</td>\n",
       "      <td>4</td>\n",
       "      <td>4.082048</td>\n",
       "      <td>0.500910</td>\n",
       "      <td>0.576209</td>\n",
       "      <td>0.266228</td>\n",
       "      <td>0.363318</td>\n",
       "      <td>0.218211</td>\n",
       "      <td>0.408140</td>\n",
       "    </tr>\n",
       "    <tr>\n",
       "      <th>4</th>\n",
       "      <td>1033</td>\n",
       "      <td>作</td>\n",
       "      <td>835</td>\n",
       "      <td>清水清三郎商店</td>\n",
       "      <td>24.0</td>\n",
       "      <td>三重県</td>\n",
       "      <td>5</td>\n",
       "      <td>4.078426</td>\n",
       "      <td>0.536077</td>\n",
       "      <td>0.515444</td>\n",
       "      <td>0.224300</td>\n",
       "      <td>0.353433</td>\n",
       "      <td>0.264812</td>\n",
       "      <td>0.448987</td>\n",
       "    </tr>\n",
       "  </tbody>\n",
       "</table>\n",
       "</div>"
      ],
      "text/plain": [
       "   brand_id brand_name  brewery_id brewery_name  area_id areas  rank  \\\n",
       "0       109         新政          76         新政酒造      5.0   秋田県     1   \n",
       "1       660         而今         488        木屋正酒造     24.0   三重県     2   \n",
       "2       792        風の森         589         油長酒造     29.0   奈良県     3   \n",
       "3       144        十四代          96         高木酒造      6.0   山形県     4   \n",
       "4      1033          作         835      清水清三郎商店     24.0   三重県     5   \n",
       "\n",
       "      score       華やか        芳醇        重厚       穏やか       ドライ        軽快  \n",
       "0  4.346165  0.511599  0.463938  0.281150  0.299996  0.198018  0.561048  \n",
       "1  4.101579  0.460587  0.554260  0.273549  0.382683  0.254057  0.441401  \n",
       "2  4.089639  0.512314  0.432380  0.245591  0.253705  0.228730  0.611215  \n",
       "3  4.082048  0.500910  0.576209  0.266228  0.363318  0.218211  0.408140  \n",
       "4  4.078426  0.536077  0.515444  0.224300  0.353433  0.264812  0.448987  "
      ]
     },
     "execution_count": 188,
     "metadata": {},
     "output_type": "execute_result"
    }
   ],
   "source": [
    "brand_ranking_profiles.head()"
   ]
  },
  {
   "cell_type": "code",
   "execution_count": 193,
   "metadata": {},
   "outputs": [],
   "source": [
    "neighbors_data = brand_ranking_profiles.iloc[:,7:]\n",
    "X = neighbors_data.drop(columns=['score'])\n",
    "y = neighbors_data['score']"
   ]
  },
  {
   "cell_type": "code",
   "execution_count": 194,
   "metadata": {},
   "outputs": [
    {
     "name": "stdout",
     "output_type": "stream",
     "text": [
      "(100, 6)\n",
      "(100,)\n"
     ]
    }
   ],
   "source": [
    "print(X.shape)\n",
    "print(y.shape)"
   ]
  },
  {
   "cell_type": "code",
   "execution_count": 218,
   "metadata": {},
   "outputs": [],
   "source": [
    "scaler = StandardScaler()\n",
    "X_scaled = scaler.fit_transform(X)"
   ]
  },
  {
   "cell_type": "code",
   "execution_count": 219,
   "metadata": {},
   "outputs": [
    {
     "data": {
      "text/html": [
       "<style>#sk-container-id-2 {color: black;}#sk-container-id-2 pre{padding: 0;}#sk-container-id-2 div.sk-toggleable {background-color: white;}#sk-container-id-2 label.sk-toggleable__label {cursor: pointer;display: block;width: 100%;margin-bottom: 0;padding: 0.3em;box-sizing: border-box;text-align: center;}#sk-container-id-2 label.sk-toggleable__label-arrow:before {content: \"▸\";float: left;margin-right: 0.25em;color: #696969;}#sk-container-id-2 label.sk-toggleable__label-arrow:hover:before {color: black;}#sk-container-id-2 div.sk-estimator:hover label.sk-toggleable__label-arrow:before {color: black;}#sk-container-id-2 div.sk-toggleable__content {max-height: 0;max-width: 0;overflow: hidden;text-align: left;background-color: #f0f8ff;}#sk-container-id-2 div.sk-toggleable__content pre {margin: 0.2em;color: black;border-radius: 0.25em;background-color: #f0f8ff;}#sk-container-id-2 input.sk-toggleable__control:checked~div.sk-toggleable__content {max-height: 200px;max-width: 100%;overflow: auto;}#sk-container-id-2 input.sk-toggleable__control:checked~label.sk-toggleable__label-arrow:before {content: \"▾\";}#sk-container-id-2 div.sk-estimator input.sk-toggleable__control:checked~label.sk-toggleable__label {background-color: #d4ebff;}#sk-container-id-2 div.sk-label input.sk-toggleable__control:checked~label.sk-toggleable__label {background-color: #d4ebff;}#sk-container-id-2 input.sk-hidden--visually {border: 0;clip: rect(1px 1px 1px 1px);clip: rect(1px, 1px, 1px, 1px);height: 1px;margin: -1px;overflow: hidden;padding: 0;position: absolute;width: 1px;}#sk-container-id-2 div.sk-estimator {font-family: monospace;background-color: #f0f8ff;border: 1px dotted black;border-radius: 0.25em;box-sizing: border-box;margin-bottom: 0.5em;}#sk-container-id-2 div.sk-estimator:hover {background-color: #d4ebff;}#sk-container-id-2 div.sk-parallel-item::after {content: \"\";width: 100%;border-bottom: 1px solid gray;flex-grow: 1;}#sk-container-id-2 div.sk-label:hover label.sk-toggleable__label {background-color: #d4ebff;}#sk-container-id-2 div.sk-serial::before {content: \"\";position: absolute;border-left: 1px solid gray;box-sizing: border-box;top: 0;bottom: 0;left: 50%;z-index: 0;}#sk-container-id-2 div.sk-serial {display: flex;flex-direction: column;align-items: center;background-color: white;padding-right: 0.2em;padding-left: 0.2em;position: relative;}#sk-container-id-2 div.sk-item {position: relative;z-index: 1;}#sk-container-id-2 div.sk-parallel {display: flex;align-items: stretch;justify-content: center;background-color: white;position: relative;}#sk-container-id-2 div.sk-item::before, #sk-container-id-2 div.sk-parallel-item::before {content: \"\";position: absolute;border-left: 1px solid gray;box-sizing: border-box;top: 0;bottom: 0;left: 50%;z-index: -1;}#sk-container-id-2 div.sk-parallel-item {display: flex;flex-direction: column;z-index: 1;position: relative;background-color: white;}#sk-container-id-2 div.sk-parallel-item:first-child::after {align-self: flex-end;width: 50%;}#sk-container-id-2 div.sk-parallel-item:last-child::after {align-self: flex-start;width: 50%;}#sk-container-id-2 div.sk-parallel-item:only-child::after {width: 0;}#sk-container-id-2 div.sk-dashed-wrapped {border: 1px dashed gray;margin: 0 0.4em 0.5em 0.4em;box-sizing: border-box;padding-bottom: 0.4em;background-color: white;}#sk-container-id-2 div.sk-label label {font-family: monospace;font-weight: bold;display: inline-block;line-height: 1.2em;}#sk-container-id-2 div.sk-label-container {text-align: center;}#sk-container-id-2 div.sk-container {/* jupyter's `normalize.less` sets `[hidden] { display: none; }` but bootstrap.min.css set `[hidden] { display: none !important; }` so we also need the `!important` here to be able to override the default hidden behavior on the sphinx rendered scikit-learn.org. See: https://github.com/scikit-learn/scikit-learn/issues/21755 */display: inline-block !important;position: relative;}#sk-container-id-2 div.sk-text-repr-fallback {display: none;}</style><div id=\"sk-container-id-2\" class=\"sk-top-container\"><div class=\"sk-text-repr-fallback\"><pre>KNeighborsRegressor(n_neighbors=1)</pre><b>In a Jupyter environment, please rerun this cell to show the HTML representation or trust the notebook. <br />On GitHub, the HTML representation is unable to render, please try loading this page with nbviewer.org.</b></div><div class=\"sk-container\" hidden><div class=\"sk-item\"><div class=\"sk-estimator sk-toggleable\"><input class=\"sk-toggleable__control sk-hidden--visually\" id=\"sk-estimator-id-2\" type=\"checkbox\" checked><label for=\"sk-estimator-id-2\" class=\"sk-toggleable__label sk-toggleable__label-arrow\">KNeighborsRegressor</label><div class=\"sk-toggleable__content\"><pre>KNeighborsRegressor(n_neighbors=1)</pre></div></div></div></div></div>"
      ],
      "text/plain": [
       "KNeighborsRegressor(n_neighbors=1)"
      ]
     },
     "execution_count": 219,
     "metadata": {},
     "output_type": "execute_result"
    }
   ],
   "source": [
    "neigh = KNeighborsRegressor(n_neighbors=1)\n",
    "neigh.fit(X_scaled, y)"
   ]
  },
  {
   "cell_type": "code",
   "execution_count": 220,
   "metadata": {},
   "outputs": [
    {
     "data": {
      "text/html": [
       "<div>\n",
       "<style scoped>\n",
       "    .dataframe tbody tr th:only-of-type {\n",
       "        vertical-align: middle;\n",
       "    }\n",
       "\n",
       "    .dataframe tbody tr th {\n",
       "        vertical-align: top;\n",
       "    }\n",
       "\n",
       "    .dataframe thead th {\n",
       "        text-align: right;\n",
       "    }\n",
       "</style>\n",
       "<table border=\"1\" class=\"dataframe\">\n",
       "  <thead>\n",
       "    <tr style=\"text-align: right;\">\n",
       "      <th></th>\n",
       "      <th>brand_id</th>\n",
       "      <th>華やか</th>\n",
       "      <th>芳醇</th>\n",
       "      <th>重厚</th>\n",
       "      <th>穏やか</th>\n",
       "      <th>ドライ</th>\n",
       "      <th>軽快</th>\n",
       "    </tr>\n",
       "  </thead>\n",
       "  <tbody>\n",
       "    <tr>\n",
       "      <th>0</th>\n",
       "      <td>2</td>\n",
       "      <td>0.269063</td>\n",
       "      <td>0.504936</td>\n",
       "      <td>0.327400</td>\n",
       "      <td>0.422878</td>\n",
       "      <td>0.460952</td>\n",
       "      <td>0.417315</td>\n",
       "    </tr>\n",
       "    <tr>\n",
       "      <th>1</th>\n",
       "      <td>3</td>\n",
       "      <td>0.330239</td>\n",
       "      <td>0.398706</td>\n",
       "      <td>0.202154</td>\n",
       "      <td>0.505910</td>\n",
       "      <td>0.486143</td>\n",
       "      <td>0.445902</td>\n",
       "    </tr>\n",
       "    <tr>\n",
       "      <th>2</th>\n",
       "      <td>4</td>\n",
       "      <td>0.476028</td>\n",
       "      <td>0.435502</td>\n",
       "      <td>0.284076</td>\n",
       "      <td>0.321472</td>\n",
       "      <td>0.296539</td>\n",
       "      <td>0.558351</td>\n",
       "    </tr>\n",
       "    <tr>\n",
       "      <th>3</th>\n",
       "      <td>7</td>\n",
       "      <td>0.213287</td>\n",
       "      <td>0.480815</td>\n",
       "      <td>0.263402</td>\n",
       "      <td>0.679518</td>\n",
       "      <td>0.337940</td>\n",
       "      <td>0.279280</td>\n",
       "    </tr>\n",
       "    <tr>\n",
       "      <th>4</th>\n",
       "      <td>9</td>\n",
       "      <td>0.418036</td>\n",
       "      <td>0.533387</td>\n",
       "      <td>0.302480</td>\n",
       "      <td>0.432862</td>\n",
       "      <td>0.247361</td>\n",
       "      <td>0.447987</td>\n",
       "    </tr>\n",
       "  </tbody>\n",
       "</table>\n",
       "</div>"
      ],
      "text/plain": [
       "   brand_id       華やか        芳醇        重厚       穏やか       ドライ        軽快\n",
       "0         2  0.269063  0.504936  0.327400  0.422878  0.460952  0.417315\n",
       "1         3  0.330239  0.398706  0.202154  0.505910  0.486143  0.445902\n",
       "2         4  0.476028  0.435502  0.284076  0.321472  0.296539  0.558351\n",
       "3         7  0.213287  0.480815  0.263402  0.679518  0.337940  0.279280\n",
       "4         9  0.418036  0.533387  0.302480  0.432862  0.247361  0.447987"
      ]
     },
     "execution_count": 220,
     "metadata": {},
     "output_type": "execute_result"
    }
   ],
   "source": [
    "flavor_chart.head()"
   ]
  },
  {
   "cell_type": "code",
   "execution_count": 221,
   "metadata": {},
   "outputs": [
    {
     "data": {
      "text/plain": [
       "(100,)"
      ]
     },
     "execution_count": 221,
     "metadata": {},
     "output_type": "execute_result"
    }
   ],
   "source": [
    "top_100_brand_ids = brand_ranking_profiles['brand_id'].values\n",
    "top_100_brand_ids.shape"
   ]
  },
  {
   "cell_type": "code",
   "execution_count": 222,
   "metadata": {},
   "outputs": [
    {
     "data": {
      "text/html": [
       "<div>\n",
       "<style scoped>\n",
       "    .dataframe tbody tr th:only-of-type {\n",
       "        vertical-align: middle;\n",
       "    }\n",
       "\n",
       "    .dataframe tbody tr th {\n",
       "        vertical-align: top;\n",
       "    }\n",
       "\n",
       "    .dataframe thead th {\n",
       "        text-align: right;\n",
       "    }\n",
       "</style>\n",
       "<table border=\"1\" class=\"dataframe\">\n",
       "  <thead>\n",
       "    <tr style=\"text-align: right;\">\n",
       "      <th></th>\n",
       "      <th>brand_id</th>\n",
       "      <th>華やか</th>\n",
       "      <th>芳醇</th>\n",
       "      <th>重厚</th>\n",
       "      <th>穏やか</th>\n",
       "      <th>ドライ</th>\n",
       "      <th>軽快</th>\n",
       "      <th>brand_name</th>\n",
       "      <th>brewery_id</th>\n",
       "    </tr>\n",
       "  </thead>\n",
       "  <tbody>\n",
       "    <tr>\n",
       "      <th>0</th>\n",
       "      <td>2</td>\n",
       "      <td>0.269063</td>\n",
       "      <td>0.504936</td>\n",
       "      <td>0.327400</td>\n",
       "      <td>0.422878</td>\n",
       "      <td>0.460952</td>\n",
       "      <td>0.417315</td>\n",
       "      <td>男山</td>\n",
       "      <td>2</td>\n",
       "    </tr>\n",
       "    <tr>\n",
       "      <th>1</th>\n",
       "      <td>3</td>\n",
       "      <td>0.330239</td>\n",
       "      <td>0.398706</td>\n",
       "      <td>0.202154</td>\n",
       "      <td>0.505910</td>\n",
       "      <td>0.486143</td>\n",
       "      <td>0.445902</td>\n",
       "      <td>大雪乃蔵</td>\n",
       "      <td>3</td>\n",
       "    </tr>\n",
       "    <tr>\n",
       "      <th>2</th>\n",
       "      <td>4</td>\n",
       "      <td>0.476028</td>\n",
       "      <td>0.435502</td>\n",
       "      <td>0.284076</td>\n",
       "      <td>0.321472</td>\n",
       "      <td>0.296539</td>\n",
       "      <td>0.558351</td>\n",
       "      <td>宝川</td>\n",
       "      <td>4</td>\n",
       "    </tr>\n",
       "    <tr>\n",
       "      <th>3</th>\n",
       "      <td>7</td>\n",
       "      <td>0.213287</td>\n",
       "      <td>0.480815</td>\n",
       "      <td>0.263402</td>\n",
       "      <td>0.679518</td>\n",
       "      <td>0.337940</td>\n",
       "      <td>0.279280</td>\n",
       "      <td>北の誉</td>\n",
       "      <td>3</td>\n",
       "    </tr>\n",
       "    <tr>\n",
       "      <th>4</th>\n",
       "      <td>9</td>\n",
       "      <td>0.418036</td>\n",
       "      <td>0.533387</td>\n",
       "      <td>0.302480</td>\n",
       "      <td>0.432862</td>\n",
       "      <td>0.247361</td>\n",
       "      <td>0.447987</td>\n",
       "      <td>えぞ乃熊</td>\n",
       "      <td>6</td>\n",
       "    </tr>\n",
       "  </tbody>\n",
       "</table>\n",
       "</div>"
      ],
      "text/plain": [
       "   brand_id       華やか        芳醇        重厚       穏やか       ドライ        軽快  \\\n",
       "0         2  0.269063  0.504936  0.327400  0.422878  0.460952  0.417315   \n",
       "1         3  0.330239  0.398706  0.202154  0.505910  0.486143  0.445902   \n",
       "2         4  0.476028  0.435502  0.284076  0.321472  0.296539  0.558351   \n",
       "3         7  0.213287  0.480815  0.263402  0.679518  0.337940  0.279280   \n",
       "4         9  0.418036  0.533387  0.302480  0.432862  0.247361  0.447987   \n",
       "\n",
       "  brand_name  brewery_id  \n",
       "0         男山           2  \n",
       "1       大雪乃蔵           3  \n",
       "2         宝川           4  \n",
       "3        北の誉           3  \n",
       "4       えぞ乃熊           6  "
      ]
     },
     "execution_count": 222,
     "metadata": {},
     "output_type": "execute_result"
    }
   ],
   "source": [
    "unseen_flavor_profiles = flavor_chart[~flavor_chart['brand_id'].isin(top_100_brand_ids)]\n",
    "unseen_flavor_profiles= unseen_flavor_profiles.merge(brands, on='brand_id', how='left')\n",
    "unseen_flavor_profiles.head()"
   ]
  },
  {
   "cell_type": "code",
   "execution_count": 223,
   "metadata": {},
   "outputs": [
    {
     "data": {
      "text/plain": [
       "(1232, 6)"
      ]
     },
     "execution_count": 223,
     "metadata": {},
     "output_type": "execute_result"
    }
   ],
   "source": [
    "test_sakes = unseen_flavor_profiles.iloc[:,1:7]\n",
    "test_sakes.shape"
   ]
  },
  {
   "cell_type": "code",
   "execution_count": 269,
   "metadata": {},
   "outputs": [
    {
     "name": "stdout",
     "output_type": "stream",
     "text": [
      "Sake with brand_id: 21 is most similar to: 田酒!\n",
      "Sake with brand_id: 72 is most similar to: 十四代!\n",
      "Sake with brand_id: 143 is most similar to: 田酒!\n",
      "Sake with brand_id: 372 is most similar to: 田酒!\n",
      "Sake with brand_id: 643 is most similar to: 田酒!\n",
      "Sake with brand_id: 1305 is most similar to: 而今!\n",
      "Sake with brand_id: 1430 is most similar to: 而今!\n",
      "Sake with brand_id: 1513 is most similar to: 而今!\n",
      "Sake with brand_id: 1997 is most similar to: 作!\n",
      "Sake with brand_id: 2504 is most similar to: 風の森!\n",
      "Sake with brand_id: 2621 is most similar to: 風の森!\n",
      "Sake with brand_id: 2987 is most similar to: 新政!\n",
      "Sake with brand_id: 3547 is most similar to: 而今!\n",
      "Sake with brand_id: 3754 is most similar to: 風の森!\n",
      "Sake with brand_id: 3922 is most similar to: 而今!\n",
      "Sake with brand_id: 8725 is most similar to: 新政!\n",
      "Sake with brand_id: 38872 is most similar to: 作!\n"
     ]
    }
   ],
   "source": [
    "# Let's search through our full set of unseen sake flavor profiles\n",
    "# and see if any of them closely match any of the top 5 sakes.\n",
    "for i in range(test_sakes.shape[0]):\n",
    "    test_sample = test_sakes.iloc[[i]]\n",
    "    test_sample_brand_id = unseen_flavor_profiles.iloc[i].brand_id\n",
    "    test_sample_scaled = scaler.transform(test_sample)\n",
    "    nearest_neighbors_indices = neigh.kneighbors(test_sample_scaled, return_distance=False)\n",
    "    if nearest_neighbors_indices[0][0] <= 5:\n",
    "    #print(nearest_neighbors_indices[0][0])\n",
    "        neighbor_name = brand_ranking_profiles.iloc[nearest_neighbors_indices[0]].brand_name.values[0]\n",
    "        print(f'Sake with brand_id: {test_sample_brand_id} is most similar to: {neighbor_name}!')"
   ]
  },
  {
   "cell_type": "markdown",
   "metadata": {},
   "source": [
    "Personally, I like 田酒. Let's see how sake 21's flavor profile compares with 田酒."
   ]
  },
  {
   "cell_type": "code",
   "execution_count": 270,
   "metadata": {},
   "outputs": [
    {
     "data": {
      "text/plain": [
       "華やか    0.250814\n",
       "芳醇     0.654933\n",
       "重厚     0.344006\n",
       "穏やか    0.537504\n",
       "ドライ    0.158214\n",
       "軽快     0.275449\n",
       "Name: 21, dtype: float64"
      ]
     },
     "execution_count": 270,
     "metadata": {},
     "output_type": "execute_result"
    }
   ],
   "source": [
    "test_sakes.iloc[21]"
   ]
  },
  {
   "cell_type": "code",
   "execution_count": 294,
   "metadata": {},
   "outputs": [
    {
     "data": {
      "text/html": [
       "<div>\n",
       "<style scoped>\n",
       "    .dataframe tbody tr th:only-of-type {\n",
       "        vertical-align: middle;\n",
       "    }\n",
       "\n",
       "    .dataframe tbody tr th {\n",
       "        vertical-align: top;\n",
       "    }\n",
       "\n",
       "    .dataframe thead th {\n",
       "        text-align: right;\n",
       "    }\n",
       "</style>\n",
       "<table border=\"1\" class=\"dataframe\">\n",
       "  <thead>\n",
       "    <tr style=\"text-align: right;\">\n",
       "      <th></th>\n",
       "      <th>華やか</th>\n",
       "      <th>芳醇</th>\n",
       "      <th>重厚</th>\n",
       "      <th>穏やか</th>\n",
       "      <th>ドライ</th>\n",
       "      <th>軽快</th>\n",
       "    </tr>\n",
       "  </thead>\n",
       "  <tbody>\n",
       "    <tr>\n",
       "      <th>5</th>\n",
       "      <td>0.473735</td>\n",
       "      <td>0.470465</td>\n",
       "      <td>0.257157</td>\n",
       "      <td>0.375462</td>\n",
       "      <td>0.349919</td>\n",
       "      <td>0.474018</td>\n",
       "    </tr>\n",
       "  </tbody>\n",
       "</table>\n",
       "</div>"
      ],
      "text/plain": [
       "        華やか        芳醇        重厚       穏やか       ドライ        軽快\n",
       "5  0.473735  0.470465  0.257157  0.375462  0.349919  0.474018"
      ]
     },
     "execution_count": 294,
     "metadata": {},
     "output_type": "execute_result"
    }
   ],
   "source": [
    "den_shu = brand_ranking_profiles[brand_ranking_profiles['brand_name']=='田酒'].iloc[:,8:14]\n",
    "den_shu"
   ]
  },
  {
   "cell_type": "code",
   "execution_count": 299,
   "metadata": {},
   "outputs": [
    {
     "data": {
      "text/plain": [
       "Text(0.5, 1.0, '田酒 Flavor Profile')"
      ]
     },
     "execution_count": 299,
     "metadata": {},
     "output_type": "execute_result"
    },
    {
     "data": {
      "image/png": "[encoded data removed]",
      "text/plain": [
       "<Figure size 1200x600 with 2 Axes>"
      ]
     },
     "metadata": {},
     "output_type": "display_data"
    }
   ],
   "source": [
    "fig, axes = plt.subplots(nrows=1, ncols=2, figsize=(12,6))\n",
    "sns.barplot(x=test_sakes.iloc[21].index, y=test_sakes.iloc[21].values, ax=axes[0])\n",
    "axes[0].set_title('Sake 21 Flavor Profile')\n",
    "sns.barplot(data=den_shu, ax=axes[1])\n",
    "axes[1].set_title('田酒 Flavor Profile')"
   ]
  },
  {
   "cell_type": "markdown",
   "metadata": {},
   "source": [
    "Hmmmm, they don't actually seem very similar..."
   ]
  }
 ],
 "metadata": {
  "kernelspec": {
   "display_name": "lewagon",
   "language": "python",
   "name": "python3"
  },
  "language_info": {
   "codemirror_mode": {
    "name": "ipython",
    "version": 3
   },
   "file_extension": ".py",
   "mimetype": "text/x-python",
   "name": "python",
   "nbconvert_exporter": "python",
   "pygments_lexer": "ipython3",
   "version": "3.10.6"
  }
 },
 "nbformat": 4,
 "nbformat_minor": 2
}
